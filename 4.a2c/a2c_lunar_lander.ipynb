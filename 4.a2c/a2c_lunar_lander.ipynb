{
 "cells": [
  {
   "cell_type": "markdown",
   "metadata": {},
   "source": [
    "<center> <b>A2C on LunarLander-v2</b></center>"
   ]
  },
  {
   "cell_type": "code",
   "execution_count": 29,
   "metadata": {},
   "outputs": [],
   "source": [
    "# Install dependencies:-\n",
    "# !pip install gym\n",
    "# !pip install pygame\n",
    "# !pip install Box2D\n",
    "# !pip install gym[all]\n",
    "# !pip install gym[box2d]\n",
    "# !pip3 install box2d box2d-kengz"
   ]
  },
  {
   "cell_type": "code",
   "execution_count": 30,
   "metadata": {},
   "outputs": [],
   "source": [
    "import gym, os\n",
    "from gym import spaces\n",
    "from itertools import count\n",
    "from collections import OrderedDict\n",
    "import numpy as np\n",
    "import torch\n",
    "import torch.nn as nn\n",
    "import torch.optim as optim\n",
    "import torch.nn.functional as F\n",
    "from torch.distributions import Categorical\n",
    "import matplotlib.pyplot as plt\n",
    "import math\n",
    "from gym import envs\n",
    "\n",
    "plt.style.use('ggplot')\n",
    "\n",
    "torch.seed()\n",
    "device = torch.device(\"cuda\" if torch.cuda.is_available() else \"cpu\")"
   ]
  },
  {
   "cell_type": "code",
   "execution_count": 31,
   "metadata": {},
   "outputs": [],
   "source": [
    "from actor import Actor\n",
    "from critic import Critic"
   ]
  },
  {
   "cell_type": "code",
   "execution_count": 32,
   "metadata": {},
   "outputs": [],
   "source": [
    "env = gym.make('LunarLander-v2')"
   ]
  },
  {
   "cell_type": "code",
   "execution_count": 33,
   "metadata": {},
   "outputs": [],
   "source": [
    "def a2c(max_episodes, gamma, alphaA, alphaC):\n",
    "    max_episodes = max_episodes\n",
    "    env.reset()\n",
    "    total_rewards = []\n",
    "    log_probs = []\n",
    "    values = []\n",
    "    rewards = []\n",
    "    masks = []\n",
    "    actor = Actor().to(device)\n",
    "    critic = Critic().to(device)\n",
    "\n",
    "    optimizer_a = torch.optim.Adam(actor.parameters(), lr= alphaA)\n",
    "    optimizer_c = torch.optim.Adam(critic.parameters(), lr= alphaC)\n",
    "\n",
    "    for i in range(max_episodes):\n",
    "      done=False\n",
    "      state= env.reset()\n",
    "      r=0\n",
    "      u = 0 \n",
    "      d = 1 \n",
    "      log_probs = []\n",
    "      values = []\n",
    "      rewards = []\n",
    "      masks = []\n",
    "      episode_entropy = 0\n",
    "    \n",
    "      loss_a_list = []\n",
    "      actor_losses= 0\n",
    "      q_val = 0\n",
    "      \n",
    "      while not done:\n",
    "          \n",
    "          value = critic(torch.Tensor(state).to(device))\n",
    "          act_prob = actor(torch.Tensor(state).to(device))\n",
    "\n",
    "          #detaching to numbers for calculation\n",
    "          value = value.cpu().detach().numpy()[0]\n",
    "          prob = act_prob.cpu().detach().numpy() + 0.000001 #to avoid runtime error\n",
    "          #env.render()\n",
    "          \n",
    "        #sample an action\n",
    "          action = torch.multinomial(act_prob,1 ).cpu().detach().numpy()[0]\n",
    "\n",
    "          log_prob = torch.log(act_prob.squeeze(0)[action])\n",
    "\n",
    "          entropy = -np.sum(np.mean(prob) * np.log(prob))\n",
    "\n",
    "        #pass action in env\n",
    "          next_state,reward,done, info = env.step(action)\n",
    "          reward = 100*((math.sin(3*next_state[0]) * 0.0025 + 0.5 * next_state[1] * next_state[1]) - (math.sin(3*state[0]) * 0.0025 + 0.5 * state[1] * state[1]))\n",
    "          r+=reward\n",
    "          rewards.append(reward)\n",
    "          values.append(value)\n",
    "          log_probs.append(log_prob)\n",
    "          episode_entropy += entropy\n",
    "          state = next_state\n",
    "\n",
    "          qval = critic(torch.Tensor(next_state).to(device))\n",
    "          qval = qval.detach().cpu().numpy()[0]\n",
    "\n",
    "      qvals = np.zeros_like(values)\n",
    "      for t in reversed(range(len(rewards))):\n",
    "          qval = rewards[t] + gamma * qval\n",
    "          qvals[t] = qval\n",
    "\n",
    "      values = torch.FloatTensor(values).to(device)\n",
    "      qvals = torch.FloatTensor(qvals).to(device)\n",
    "      log_probs = torch.stack(log_probs).to(device)\n",
    "\n",
    "      advantage = qvals - values\n",
    "\n",
    "      actor_loss = (-log_probs * advantage).mean() + 0.001 * episode_entropy\n",
    "      critic_loss = 0.5 * advantage.pow(2).mean()  + 0.001 * episode_entropy\n",
    "      critic_loss.requires_grad =True\n",
    "\n",
    "      optimizer_a.zero_grad()\n",
    "      optimizer_c.zero_grad()\n",
    "\n",
    "      actor_loss.backward()\n",
    "      critic_loss.backward()\n",
    "\n",
    "      optimizer_a.step()\n",
    "      optimizer_c.step()   \n",
    "      \n",
    "\n",
    "      total_rewards.append(r)\n",
    "      if i%10 == 0:\n",
    "        print(\"Episode: \",i,\" Last  10 eps avg reward: \",sum(total_rewards[-10:])/10)\n",
    "    \n",
    "      if sum(total_rewards[-10:])/10 >= 225:\n",
    "          print(\"Training Completed !!\")\n",
    "\n",
    "          #saving models\n",
    "          torch.save(actor.state_dict(), 'a2c_actor.pt')\n",
    "          torch.save(critic.state_dict(), 'a2c_critic.pt')\n",
    "          break\n",
    "    \n",
    "    plt.plot(total_rewards)\n",
    "    plt.xlabel(\"Episodes\")\n",
    "    plt.ylabel(\"Rewards\")\n",
    "    plt.title(\"Rewards\")\n",
    "  \n",
    "\n",
    "def testing_a2c(max_eps, actor):\n",
    "    total_rews=[]\n",
    "    actor.eval()\n",
    "\n",
    "    for i in range(max_eps):\n",
    "        state = env.reset()\n",
    "        done = False\n",
    "        r = 0\n",
    "        while not done:\n",
    "            \n",
    "            env.render()\n",
    "\n",
    "            act_prob = actor(torch.Tensor(state).to(device))        \n",
    "            action = torch.multinomial(act_prob,1 ).cpu().detach().numpy()[0]\n",
    "            next_state,reward,done, info = env.step(action)\n",
    "            r+=reward\n",
    "            \n",
    "            state = next_state\n",
    "        total_rews.append(r)  \n",
    "        print(\"Episode: \",i,\" Last 10 eps avg reward: \",total_rews[-1:][0])\n",
    "\n",
    "        plt.plot(total_rews)\n",
    "        plt.xlabel(\"Episodes\")\n",
    "        plt.ylabel(\"Rewards\")\n",
    "        plt.title(\" Evaluation Rewards\")\n",
    "        print(\"Average Reward during Evaluation: \", np.mean(total_rews))\n",
    "        "
   ]
  },
  {
   "cell_type": "markdown",
   "metadata": {},
   "source": [
    "<center>Training the agent</center>"
   ]
  },
  {
   "cell_type": "code",
   "execution_count": 34,
   "metadata": {},
   "outputs": [
    {
     "name": "stdout",
     "output_type": "stream",
     "text": [
      "Episode:  0  Last  10 eps avg reward:  -9.897573641639216\n",
      "Episode:  10  Last  10 eps avg reward:  -93.26357358261681\n",
      "Episode:  20  Last  10 eps avg reward:  -96.92346397153155\n",
      "Episode:  30  Last  10 eps avg reward:  -98.59972681767525\n",
      "Episode:  40  Last  10 eps avg reward:  -71.81673425043357\n",
      "Episode:  50  Last  10 eps avg reward:  155.69929301406643\n",
      "Training Completed !!\n"
     ]
    },
    {
     "data": {
      "image/png": "[encoded data removed]",
      "text/plain": [
       "<Figure size 432x288 with 1 Axes>"
      ]
     },
     "metadata": {
      "needs_background": "light"
     },
     "output_type": "display_data"
    }
   ],
   "source": [
    "a2c(max_episodes=4000, gamma=0.99, alphaA=0.001, alphaC=0.001)"
   ]
  },
  {
   "cell_type": "markdown",
   "metadata": {},
   "source": [
    "Testing"
   ]
  },
  {
   "cell_type": "markdown",
   "metadata": {},
   "source": [
    "##### Testing code to load saved weights. Please use this code to test saved weights.\n",
    "```\n",
    "actor = Actor().to(device)\n",
    "actor.load_state_dict(torch.load('generated/actor_LL.pt'))\n",
    "critic = Critic().to(device)\n",
    "critic.load_state_dict(torch.load('generated/critic_LL.pt'))\n",
    "\n",
    "testing_a2c(10, actor)\n",
    "```"
   ]
  },
  {
   "cell_type": "code",
   "execution_count": 35,
   "metadata": {},
   "outputs": [
    {
     "name": "stdout",
     "output_type": "stream",
     "text": [
      "Episode:  0  Last 10 eps avg reward:  270.40791047704283\n",
      "Average Reward during Evaluation:  270.40791047704283\n"
     ]
    },
    {
     "ename": "KeyboardInterrupt",
     "evalue": "",
     "output_type": "error",
     "traceback": [
      "\u001b[1;31m---------------------------------------------------------------------------\u001b[0m",
      "\u001b[1;31mKeyboardInterrupt\u001b[0m                         Traceback (most recent call last)",
      "\u001b[1;32mc:\\Users\\sriam\\Desktop\\RL_Final\\3.a2c\\a2c_linar_lander.ipynb Cell 10'\u001b[0m in \u001b[0;36m<cell line: 6>\u001b[1;34m()\u001b[0m\n\u001b[0;32m      <a href='vscode-notebook-cell:/c%3A/Users/sriam/Desktop/RL_Final/3.a2c/a2c_linar_lander.ipynb#ch0000008?line=2'>3</a>\u001b[0m critic \u001b[39m=\u001b[39m Critic()\u001b[39m.\u001b[39mto(device)\n\u001b[0;32m      <a href='vscode-notebook-cell:/c%3A/Users/sriam/Desktop/RL_Final/3.a2c/a2c_linar_lander.ipynb#ch0000008?line=3'>4</a>\u001b[0m critic\u001b[39m.\u001b[39mload_state_dict(torch\u001b[39m.\u001b[39mload(\u001b[39m'\u001b[39m\u001b[39mcritic_LL.pt\u001b[39m\u001b[39m'\u001b[39m))\n\u001b[1;32m----> <a href='vscode-notebook-cell:/c%3A/Users/sriam/Desktop/RL_Final/3.a2c/a2c_linar_lander.ipynb#ch0000008?line=5'>6</a>\u001b[0m testing_a2c(\u001b[39m10\u001b[39;49m, actor)\n",
      "\u001b[1;32mc:\\Users\\sriam\\Desktop\\RL_Final\\3.a2c\\a2c_linar_lander.ipynb Cell 5'\u001b[0m in \u001b[0;36mtesting_a2c\u001b[1;34m(max_eps, actor)\u001b[0m\n\u001b[0;32m    <a href='vscode-notebook-cell:/c%3A/Users/sriam/Desktop/RL_Final/3.a2c/a2c_linar_lander.ipynb#ch0000003?line=110'>111</a>\u001b[0m r \u001b[39m=\u001b[39m \u001b[39m0\u001b[39m\n\u001b[0;32m    <a href='vscode-notebook-cell:/c%3A/Users/sriam/Desktop/RL_Final/3.a2c/a2c_linar_lander.ipynb#ch0000003?line=111'>112</a>\u001b[0m \u001b[39mwhile\u001b[39;00m \u001b[39mnot\u001b[39;00m done:\n\u001b[1;32m--> <a href='vscode-notebook-cell:/c%3A/Users/sriam/Desktop/RL_Final/3.a2c/a2c_linar_lander.ipynb#ch0000003?line=113'>114</a>\u001b[0m     env\u001b[39m.\u001b[39;49mrender()\n\u001b[0;32m    <a href='vscode-notebook-cell:/c%3A/Users/sriam/Desktop/RL_Final/3.a2c/a2c_linar_lander.ipynb#ch0000003?line=115'>116</a>\u001b[0m     act_prob \u001b[39m=\u001b[39m actor(torch\u001b[39m.\u001b[39mTensor(state)\u001b[39m.\u001b[39mto(device))        \n\u001b[0;32m    <a href='vscode-notebook-cell:/c%3A/Users/sriam/Desktop/RL_Final/3.a2c/a2c_linar_lander.ipynb#ch0000003?line=116'>117</a>\u001b[0m     action \u001b[39m=\u001b[39m torch\u001b[39m.\u001b[39mmultinomial(act_prob,\u001b[39m1\u001b[39m )\u001b[39m.\u001b[39mcpu()\u001b[39m.\u001b[39mdetach()\u001b[39m.\u001b[39mnumpy()[\u001b[39m0\u001b[39m]\n",
      "File \u001b[1;32mc:\\Users\\sriam\\.conda\\envs\\dl-final\\lib\\site-packages\\gym\\core.py:286\u001b[0m, in \u001b[0;36mWrapper.render\u001b[1;34m(self, mode, **kwargs)\u001b[0m\n\u001b[0;32m    <a href='file:///c%3A/Users/sriam/.conda/envs/dl-final/lib/site-packages/gym/core.py?line=284'>285</a>\u001b[0m \u001b[39mdef\u001b[39;00m \u001b[39mrender\u001b[39m(\u001b[39mself\u001b[39m, mode\u001b[39m=\u001b[39m\u001b[39m\"\u001b[39m\u001b[39mhuman\u001b[39m\u001b[39m\"\u001b[39m, \u001b[39m*\u001b[39m\u001b[39m*\u001b[39mkwargs):\n\u001b[1;32m--> <a href='file:///c%3A/Users/sriam/.conda/envs/dl-final/lib/site-packages/gym/core.py?line=285'>286</a>\u001b[0m     \u001b[39mreturn\u001b[39;00m \u001b[39mself\u001b[39m\u001b[39m.\u001b[39menv\u001b[39m.\u001b[39mrender(mode, \u001b[39m*\u001b[39m\u001b[39m*\u001b[39mkwargs)\n",
      "File \u001b[1;32mc:\\Users\\sriam\\.conda\\envs\\dl-final\\lib\\site-packages\\gym\\core.py:286\u001b[0m, in \u001b[0;36mWrapper.render\u001b[1;34m(self, mode, **kwargs)\u001b[0m\n\u001b[0;32m    <a href='file:///c%3A/Users/sriam/.conda/envs/dl-final/lib/site-packages/gym/core.py?line=284'>285</a>\u001b[0m \u001b[39mdef\u001b[39;00m \u001b[39mrender\u001b[39m(\u001b[39mself\u001b[39m, mode\u001b[39m=\u001b[39m\u001b[39m\"\u001b[39m\u001b[39mhuman\u001b[39m\u001b[39m\"\u001b[39m, \u001b[39m*\u001b[39m\u001b[39m*\u001b[39mkwargs):\n\u001b[1;32m--> <a href='file:///c%3A/Users/sriam/.conda/envs/dl-final/lib/site-packages/gym/core.py?line=285'>286</a>\u001b[0m     \u001b[39mreturn\u001b[39;00m \u001b[39mself\u001b[39m\u001b[39m.\u001b[39menv\u001b[39m.\u001b[39mrender(mode, \u001b[39m*\u001b[39m\u001b[39m*\u001b[39mkwargs)\n",
      "File \u001b[1;32mc:\\Users\\sriam\\.conda\\envs\\dl-final\\lib\\site-packages\\gym\\envs\\box2d\\lunar_lander.py:538\u001b[0m, in \u001b[0;36mLunarLander.render\u001b[1;34m(self, mode)\u001b[0m\n\u001b[0;32m    <a href='file:///c%3A/Users/sriam/.conda/envs/dl-final/lib/site-packages/gym/envs/box2d/lunar_lander.py?line=535'>536</a>\u001b[0m \u001b[39mif\u001b[39;00m mode \u001b[39m==\u001b[39m \u001b[39m\"\u001b[39m\u001b[39mhuman\u001b[39m\u001b[39m\"\u001b[39m:\n\u001b[0;32m    <a href='file:///c%3A/Users/sriam/.conda/envs/dl-final/lib/site-packages/gym/envs/box2d/lunar_lander.py?line=536'>537</a>\u001b[0m     pygame\u001b[39m.\u001b[39mevent\u001b[39m.\u001b[39mpump()\n\u001b[1;32m--> <a href='file:///c%3A/Users/sriam/.conda/envs/dl-final/lib/site-packages/gym/envs/box2d/lunar_lander.py?line=537'>538</a>\u001b[0m     \u001b[39mself\u001b[39;49m\u001b[39m.\u001b[39;49mclock\u001b[39m.\u001b[39;49mtick(\u001b[39mself\u001b[39;49m\u001b[39m.\u001b[39;49mmetadata[\u001b[39m\"\u001b[39;49m\u001b[39mrender_fps\u001b[39;49m\u001b[39m\"\u001b[39;49m])\n\u001b[0;32m    <a href='file:///c%3A/Users/sriam/.conda/envs/dl-final/lib/site-packages/gym/envs/box2d/lunar_lander.py?line=538'>539</a>\u001b[0m     pygame\u001b[39m.\u001b[39mdisplay\u001b[39m.\u001b[39mflip()\n\u001b[0;32m    <a href='file:///c%3A/Users/sriam/.conda/envs/dl-final/lib/site-packages/gym/envs/box2d/lunar_lander.py?line=540'>541</a>\u001b[0m \u001b[39mif\u001b[39;00m mode \u001b[39m==\u001b[39m \u001b[39m\"\u001b[39m\u001b[39mrgb_array\u001b[39m\u001b[39m\"\u001b[39m:\n",
      "\u001b[1;31mKeyboardInterrupt\u001b[0m: "
     ]
    },
    {
     "data": {
      "image/png": "[encoded data removed]",
      "text/plain": [
       "<Figure size 432x288 with 1 Axes>"
      ]
     },
     "metadata": {
      "needs_background": "light"
     },
     "output_type": "display_data"
    }
   ],
   "source": [
    "actor = Actor().to(device)\n",
    "actor.load_state_dict(torch.load('actor_LL.pt'))\n",
    "critic = Critic().to(device)\n",
    "critic.load_state_dict(torch.load('critic_LL.pt'))\n",
    "\n",
    "testing_a2c(10, actor)"
   ]
  },
  {
   "cell_type": "code",
   "execution_count": null,
   "metadata": {},
   "outputs": [],
   "source": []
  }
 ],
 "metadata": {
  "kernelspec": {
   "display_name": "Python 3.9.12 ('dl-final')",
   "language": "python",
   "name": "python3"
  },
  "language_info": {
   "codemirror_mode": {
    "name": "ipython",
    "version": 3
   },
   "file_extension": ".py",
   "mimetype": "text/x-python",
   "name": "python",
   "nbconvert_exporter": "python",
   "pygments_lexer": "ipython3",
   "version": "3.9.12"
  },
  "orig_nbformat": 4,
  "vscode": {
   "interpreter": {
    "hash": "c67ca230f4a60750fcea946e45f27f37428d6f19644993d37d9d546f6dacc919"
   }
  }
 },
 "nbformat": 4,
 "nbformat_minor": 2
}
